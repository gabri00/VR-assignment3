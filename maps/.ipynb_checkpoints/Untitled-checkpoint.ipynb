{
 "cells": [
  {
   "cell_type": "code",
   "execution_count": 39,
   "id": "ca971ba3",
   "metadata": {},
   "outputs": [],
   "source": [
    "import geopandas as gpd\n",
    "from shapely.geometry import Point, Polygon, LineString"
   ]
  },
  {
   "cell_type": "code",
   "execution_count": 40,
   "id": "8de31b8b",
   "metadata": {},
   "outputs": [
    {
     "data": {
      "text/html": [
       "<div>\n",
       "<style scoped>\n",
       "    .dataframe tbody tr th:only-of-type {\n",
       "        vertical-align: middle;\n",
       "    }\n",
       "\n",
       "    .dataframe tbody tr th {\n",
       "        vertical-align: top;\n",
       "    }\n",
       "\n",
       "    .dataframe thead th {\n",
       "        text-align: right;\n",
       "    }\n",
       "</style>\n",
       "<table border=\"1\" class=\"dataframe\">\n",
       "  <thead>\n",
       "    <tr style=\"text-align: right;\">\n",
       "      <th></th>\n",
       "      <th>Name</th>\n",
       "      <th>Description</th>\n",
       "      <th>geometry</th>\n",
       "    </tr>\n",
       "  </thead>\n",
       "  <tbody>\n",
       "    <tr>\n",
       "      <th>0</th>\n",
       "      <td>Yellow area</td>\n",
       "      <td></td>\n",
       "      <td>POLYGON Z ((8.92387 44.40400 0.00000, 8.94172 ...</td>\n",
       "    </tr>\n",
       "    <tr>\n",
       "      <th>1</th>\n",
       "      <td>Red area</td>\n",
       "      <td></td>\n",
       "      <td>POLYGON Z ((8.97801 44.40574 0.00000, 8.96061 ...</td>\n",
       "    </tr>\n",
       "    <tr>\n",
       "      <th>2</th>\n",
       "      <td>Yellow area 2</td>\n",
       "      <td></td>\n",
       "      <td>POLYGON Z ((8.95307 44.41890 0.00000, 8.94270 ...</td>\n",
       "    </tr>\n",
       "  </tbody>\n",
       "</table>\n",
       "</div>"
      ],
      "text/plain": [
       "            Name Description  \\\n",
       "0    Yellow area               \n",
       "1       Red area               \n",
       "2  Yellow area 2               \n",
       "\n",
       "                                            geometry  \n",
       "0  POLYGON Z ((8.92387 44.40400 0.00000, 8.94172 ...  \n",
       "1  POLYGON Z ((8.97801 44.40574 0.00000, 8.96061 ...  \n",
       "2  POLYGON Z ((8.95307 44.41890 0.00000, 8.94270 ...  "
      ]
     },
     "execution_count": 40,
     "metadata": {},
     "output_type": "execute_result"
    }
   ],
   "source": [
    "gpd.io.file.fiona.drvsupport.supported_drivers['KML'] = 'rw'\n",
    "my_map = gpd.read_file('Zones.kml', driver='KML')\n",
    "my_map"
   ]
  },
  {
   "cell_type": "code",
   "execution_count": 41,
   "id": "3cb2db88",
   "metadata": {},
   "outputs": [],
   "source": [
    "my_map[\"boundary\"] = my_map.boundary"
   ]
  },
  {
   "cell_type": "code",
   "execution_count": 43,
   "id": "e1209e63",
   "metadata": {},
   "outputs": [
    {
     "data": {
      "text/html": [
       "<div>\n",
       "<style scoped>\n",
       "    .dataframe tbody tr th:only-of-type {\n",
       "        vertical-align: middle;\n",
       "    }\n",
       "\n",
       "    .dataframe tbody tr th {\n",
       "        vertical-align: top;\n",
       "    }\n",
       "\n",
       "    .dataframe thead th {\n",
       "        text-align: right;\n",
       "    }\n",
       "</style>\n",
       "<table border=\"1\" class=\"dataframe\">\n",
       "  <thead>\n",
       "    <tr style=\"text-align: right;\">\n",
       "      <th></th>\n",
       "      <th>Name</th>\n",
       "      <th>Description</th>\n",
       "      <th>geometry</th>\n",
       "      <th>boundary</th>\n",
       "    </tr>\n",
       "  </thead>\n",
       "  <tbody>\n",
       "    <tr>\n",
       "      <th>0</th>\n",
       "      <td>Yellow area</td>\n",
       "      <td></td>\n",
       "      <td>POLYGON Z ((8.92387 44.40400 0.00000, 8.94172 ...</td>\n",
       "      <td>LINESTRING Z (8.92387 44.40400 0.00000, 8.9417...</td>\n",
       "    </tr>\n",
       "    <tr>\n",
       "      <th>1</th>\n",
       "      <td>Red area</td>\n",
       "      <td></td>\n",
       "      <td>POLYGON Z ((8.97801 44.40574 0.00000, 8.96061 ...</td>\n",
       "      <td>LINESTRING Z (8.97801 44.40574 0.00000, 8.9606...</td>\n",
       "    </tr>\n",
       "    <tr>\n",
       "      <th>2</th>\n",
       "      <td>Yellow area 2</td>\n",
       "      <td></td>\n",
       "      <td>POLYGON Z ((8.95307 44.41890 0.00000, 8.94270 ...</td>\n",
       "      <td>LINESTRING Z (8.95307 44.41890 0.00000, 8.9427...</td>\n",
       "    </tr>\n",
       "  </tbody>\n",
       "</table>\n",
       "</div>"
      ],
      "text/plain": [
       "            Name Description  \\\n",
       "0    Yellow area               \n",
       "1       Red area               \n",
       "2  Yellow area 2               \n",
       "\n",
       "                                            geometry  \\\n",
       "0  POLYGON Z ((8.92387 44.40400 0.00000, 8.94172 ...   \n",
       "1  POLYGON Z ((8.97801 44.40574 0.00000, 8.96061 ...   \n",
       "2  POLYGON Z ((8.95307 44.41890 0.00000, 8.94270 ...   \n",
       "\n",
       "                                            boundary  \n",
       "0  LINESTRING Z (8.92387 44.40400 0.00000, 8.9417...  \n",
       "1  LINESTRING Z (8.97801 44.40574 0.00000, 8.9606...  \n",
       "2  LINESTRING Z (8.95307 44.41890 0.00000, 8.9427...  "
      ]
     },
     "execution_count": 43,
     "metadata": {},
     "output_type": "execute_result"
    }
   ],
   "source": [
    "my_map"
   ]
  },
  {
   "cell_type": "code",
   "execution_count": 54,
   "id": "c3f804ec",
   "metadata": {},
   "outputs": [
    {
     "data": {
      "image/svg+xml": [
       "<svg xmlns=\"http://www.w3.org/2000/svg\" xmlns:xlink=\"http://www.w3.org/1999/xlink\" width=\"100.0\" height=\"100.0\" viewBox=\"8.92297753251083 44.39943809039519 0.0240065133563796 0.017256623997511156\" preserveAspectRatio=\"xMinYMin meet\"><g transform=\"matrix(1,0,0,-1,0,88.8161328047879)\"><path fill-rule=\"evenodd\" fill=\"#66cc99\" stroke=\"#555555\" stroke-width=\"0.000480130267127592\" opacity=\"0.6\" d=\"M 8.92386666263514,44.40400146346487 L 8.941718666306686,44.40032722051951 L 8.946094915742899,44.41218972364573 L 8.928191157755002,44.4158055842684 L 8.92386666263514,44.40400146346487 z\" /></g></svg>"
      ],
      "text/plain": [
       "<POLYGON Z ((8.924 44.404 0, 8.942 44.4 0, 8.946 44.412 0, 8.928 44.416 0, 8...>"
      ]
     },
     "execution_count": 54,
     "metadata": {},
     "output_type": "execute_result"
    }
   ],
   "source": [
    "my_map.geometry[0]"
   ]
  },
  {
   "cell_type": "code",
   "execution_count": 48,
   "id": "84df408e",
   "metadata": {},
   "outputs": [],
   "source": [
    "coords_0 = my_map.boundary[0].coords"
   ]
  },
  {
   "cell_type": "code",
   "execution_count": 57,
   "id": "0cad9a75",
   "metadata": {},
   "outputs": [
    {
     "data": {
      "text/plain": [
       "[(8.92386666263514, 44.40400146346487, 0.0),\n",
       " (8.941718666306686, 44.40032722051951, 0.0),\n",
       " (8.946094915742899, 44.41218972364573, 0.0),\n",
       " (8.928191157755002, 44.4158055842684, 0.0),\n",
       " (8.92386666263514, 44.40400146346487, 0.0)]"
      ]
     },
     "execution_count": 57,
     "metadata": {},
     "output_type": "execute_result"
    }
   ],
   "source": [
    "list(coords_0)"
   ]
  },
  {
   "cell_type": "code",
   "execution_count": 56,
   "id": "07f1e690",
   "metadata": {},
   "outputs": [
    {
     "data": {
      "text/plain": [
       "0.0617067624597293"
      ]
     },
     "execution_count": 56,
     "metadata": {},
     "output_type": "execute_result"
    }
   ],
   "source": [
    "my_map.geometry[0].length"
   ]
  },
  {
   "cell_type": "code",
   "execution_count": 80,
   "id": "a197d64a",
   "metadata": {},
   "outputs": [],
   "source": [
    "points = my_map.sample_points(10)"
   ]
  },
  {
   "cell_type": "code",
   "execution_count": 81,
   "id": "18bd84f0",
   "metadata": {
    "scrolled": false
   },
   "outputs": [
    {
     "data": {
      "text/html": [
       "<div style=\"width:100%;\"><div style=\"position:relative;width:100%;height:0;padding-bottom:60%;\"><span style=\"color:#565656\">Make this Notebook Trusted to load map: File -> Trust Notebook</span><iframe srcdoc=\"&lt;!DOCTYPE html&gt;\n",
       "&lt;html&gt;\n",
       "&lt;head&gt;\n",
       "    \n",
       "    &lt;meta http-equiv=&quot;content-type&quot; content=&quot;text/html; charset=UTF-8&quot; /&gt;\n",
       "    \n",
       "        &lt;script&gt;\n",
       "            L_NO_TOUCH = false;\n",
       "            L_DISABLE_3D = false;\n",
       "        &lt;/script&gt;\n",
       "    \n",
       "    &lt;style&gt;html, body {width: 100%;height: 100%;margin: 0;padding: 0;}&lt;/style&gt;\n",
       "    &lt;style&gt;#map {position:absolute;top:0;bottom:0;right:0;left:0;}&lt;/style&gt;\n",
       "    &lt;script src=&quot;https://cdn.jsdelivr.net/npm/leaflet@1.9.3/dist/leaflet.js&quot;&gt;&lt;/script&gt;\n",
       "    &lt;script src=&quot;https://code.jquery.com/jquery-3.7.1.min.js&quot;&gt;&lt;/script&gt;\n",
       "    &lt;script src=&quot;https://cdn.jsdelivr.net/npm/bootstrap@5.2.2/dist/js/bootstrap.bundle.min.js&quot;&gt;&lt;/script&gt;\n",
       "    &lt;script src=&quot;https://cdnjs.cloudflare.com/ajax/libs/Leaflet.awesome-markers/2.0.2/leaflet.awesome-markers.js&quot;&gt;&lt;/script&gt;\n",
       "    &lt;link rel=&quot;stylesheet&quot; href=&quot;https://cdn.jsdelivr.net/npm/leaflet@1.9.3/dist/leaflet.css&quot;/&gt;\n",
       "    &lt;link rel=&quot;stylesheet&quot; href=&quot;https://cdn.jsdelivr.net/npm/bootstrap@5.2.2/dist/css/bootstrap.min.css&quot;/&gt;\n",
       "    &lt;link rel=&quot;stylesheet&quot; href=&quot;https://netdna.bootstrapcdn.com/bootstrap/3.0.0/css/bootstrap.min.css&quot;/&gt;\n",
       "    &lt;link rel=&quot;stylesheet&quot; href=&quot;https://cdn.jsdelivr.net/npm/@fortawesome/fontawesome-free@6.2.0/css/all.min.css&quot;/&gt;\n",
       "    &lt;link rel=&quot;stylesheet&quot; href=&quot;https://cdnjs.cloudflare.com/ajax/libs/Leaflet.awesome-markers/2.0.2/leaflet.awesome-markers.css&quot;/&gt;\n",
       "    &lt;link rel=&quot;stylesheet&quot; href=&quot;https://cdn.jsdelivr.net/gh/python-visualization/folium/folium/templates/leaflet.awesome.rotate.min.css&quot;/&gt;\n",
       "    \n",
       "            &lt;meta name=&quot;viewport&quot; content=&quot;width=device-width,\n",
       "                initial-scale=1.0, maximum-scale=1.0, user-scalable=no&quot; /&gt;\n",
       "            &lt;style&gt;\n",
       "                #map_7ce87ee0c6eb621d2c59aa7d963425a2 {\n",
       "                    position: relative;\n",
       "                    width: 100.0%;\n",
       "                    height: 100.0%;\n",
       "                    left: 0.0%;\n",
       "                    top: 0.0%;\n",
       "                }\n",
       "                .leaflet-container { font-size: 1rem; }\n",
       "            &lt;/style&gt;\n",
       "        \n",
       "    \n",
       "                    &lt;style&gt;\n",
       "                        .foliumtooltip {\n",
       "                            \n",
       "                        }\n",
       "                       .foliumtooltip table{\n",
       "                            margin: auto;\n",
       "                        }\n",
       "                        .foliumtooltip tr{\n",
       "                            text-align: left;\n",
       "                        }\n",
       "                        .foliumtooltip th{\n",
       "                            padding: 2px; padding-right: 8px;\n",
       "                        }\n",
       "                    &lt;/style&gt;\n",
       "            \n",
       "    \n",
       "                    &lt;style&gt;\n",
       "                        .foliumtooltip {\n",
       "                            \n",
       "                        }\n",
       "                       .foliumtooltip table{\n",
       "                            margin: auto;\n",
       "                        }\n",
       "                        .foliumtooltip tr{\n",
       "                            text-align: left;\n",
       "                        }\n",
       "                        .foliumtooltip th{\n",
       "                            padding: 2px; padding-right: 8px;\n",
       "                        }\n",
       "                    &lt;/style&gt;\n",
       "            \n",
       "&lt;/head&gt;\n",
       "&lt;body&gt;\n",
       "    \n",
       "    \n",
       "            &lt;div class=&quot;folium-map&quot; id=&quot;map_7ce87ee0c6eb621d2c59aa7d963425a2&quot; &gt;&lt;/div&gt;\n",
       "        \n",
       "&lt;/body&gt;\n",
       "&lt;script&gt;\n",
       "    \n",
       "    \n",
       "            var map_7ce87ee0c6eb621d2c59aa7d963425a2 = L.map(\n",
       "                &quot;map_7ce87ee0c6eb621d2c59aa7d963425a2&quot;,\n",
       "                {\n",
       "                    center: [44.403542398980036, 8.95627815712695],\n",
       "                    crs: L.CRS.EPSG3857,\n",
       "                    zoom: 10,\n",
       "                    zoomControl: true,\n",
       "                    preferCanvas: false,\n",
       "                }\n",
       "            );\n",
       "            L.control.scale().addTo(map_7ce87ee0c6eb621d2c59aa7d963425a2);\n",
       "\n",
       "            \n",
       "\n",
       "        \n",
       "    \n",
       "            var tile_layer_8fab008a48ad495d1de87fc0336e9c97 = L.tileLayer(\n",
       "                &quot;https://tile.openstreetmap.org/{z}/{x}/{y}.png&quot;,\n",
       "                {&quot;attribution&quot;: &quot;\\u0026copy; \\u003ca href=\\&quot;https://www.openstreetmap.org/copyright\\&quot;\\u003eOpenStreetMap\\u003c/a\\u003e contributors&quot;, &quot;detectRetina&quot;: false, &quot;maxNativeZoom&quot;: 19, &quot;maxZoom&quot;: 19, &quot;minZoom&quot;: 0, &quot;noWrap&quot;: false, &quot;opacity&quot;: 1, &quot;subdomains&quot;: &quot;abc&quot;, &quot;tms&quot;: false}\n",
       "            );\n",
       "        \n",
       "    \n",
       "            tile_layer_8fab008a48ad495d1de87fc0336e9c97.addTo(map_7ce87ee0c6eb621d2c59aa7d963425a2);\n",
       "        \n",
       "    \n",
       "            map_7ce87ee0c6eb621d2c59aa7d963425a2.fitBounds(\n",
       "                [[44.38818359973404, 8.92386666263514], [44.41890119822603, 8.988689651618762]],\n",
       "                {}\n",
       "            );\n",
       "        \n",
       "    \n",
       "        function geo_json_25c917d56d7c1aa021ca36c7de16cc6f_styler(feature) {\n",
       "            switch(feature.id) {\n",
       "                default:\n",
       "                    return {&quot;fillOpacity&quot;: 0.5, &quot;weight&quot;: 2};\n",
       "            }\n",
       "        }\n",
       "        function geo_json_25c917d56d7c1aa021ca36c7de16cc6f_highlighter(feature) {\n",
       "            switch(feature.id) {\n",
       "                default:\n",
       "                    return {&quot;fillOpacity&quot;: 0.75};\n",
       "            }\n",
       "        }\n",
       "        function geo_json_25c917d56d7c1aa021ca36c7de16cc6f_pointToLayer(feature, latlng) {\n",
       "            var opts = {&quot;bubblingMouseEvents&quot;: true, &quot;color&quot;: &quot;#3388ff&quot;, &quot;dashArray&quot;: null, &quot;dashOffset&quot;: null, &quot;fill&quot;: true, &quot;fillColor&quot;: &quot;#3388ff&quot;, &quot;fillOpacity&quot;: 0.2, &quot;fillRule&quot;: &quot;evenodd&quot;, &quot;lineCap&quot;: &quot;round&quot;, &quot;lineJoin&quot;: &quot;round&quot;, &quot;opacity&quot;: 1.0, &quot;radius&quot;: 2, &quot;stroke&quot;: true, &quot;weight&quot;: 3};\n",
       "            \n",
       "            let style = geo_json_25c917d56d7c1aa021ca36c7de16cc6f_styler(feature)\n",
       "            Object.assign(opts, style)\n",
       "            \n",
       "            return new L.CircleMarker(latlng, opts)\n",
       "        }\n",
       "\n",
       "        function geo_json_25c917d56d7c1aa021ca36c7de16cc6f_onEachFeature(feature, layer) {\n",
       "            layer.on({\n",
       "                mouseout: function(e) {\n",
       "                    if(typeof e.target.setStyle === &quot;function&quot;){\n",
       "                            geo_json_25c917d56d7c1aa021ca36c7de16cc6f.resetStyle(e.target);\n",
       "                    }\n",
       "                },\n",
       "                mouseover: function(e) {\n",
       "                    if(typeof e.target.setStyle === &quot;function&quot;){\n",
       "                        const highlightStyle = geo_json_25c917d56d7c1aa021ca36c7de16cc6f_highlighter(e.target.feature)\n",
       "                        e.target.setStyle(highlightStyle);\n",
       "                    }\n",
       "                },\n",
       "            });\n",
       "        };\n",
       "        var geo_json_25c917d56d7c1aa021ca36c7de16cc6f = L.geoJson(null, {\n",
       "                onEachFeature: geo_json_25c917d56d7c1aa021ca36c7de16cc6f_onEachFeature,\n",
       "            \n",
       "                style: geo_json_25c917d56d7c1aa021ca36c7de16cc6f_styler,\n",
       "                pointToLayer: geo_json_25c917d56d7c1aa021ca36c7de16cc6f_pointToLayer,\n",
       "        });\n",
       "\n",
       "        function geo_json_25c917d56d7c1aa021ca36c7de16cc6f_add (data) {\n",
       "            geo_json_25c917d56d7c1aa021ca36c7de16cc6f\n",
       "                .addData(data);\n",
       "        }\n",
       "            geo_json_25c917d56d7c1aa021ca36c7de16cc6f_add({&quot;bbox&quot;: [8.92386666263514, 44.38818359973404, 8.988689651618762, 44.41890119822603], &quot;features&quot;: [{&quot;bbox&quot;: [8.92386666263514, 44.40032722051951, 8.946094915742899, 44.4158055842684], &quot;geometry&quot;: {&quot;coordinates&quot;: [[[8.92386666263514, 44.40400146346487, 0.0], [8.941718666306686, 44.40032722051951, 0.0], [8.946094915742899, 44.41218972364573, 0.0], [8.928191157755002, 44.4158055842684, 0.0], [8.92386666263514, 44.40400146346487, 0.0]]], &quot;type&quot;: &quot;Polygon&quot;}, &quot;id&quot;: &quot;0&quot;, &quot;properties&quot;: {&quot;Description&quot;: &quot;&quot;, &quot;Name&quot;: &quot;Yellow area&quot;}, &quot;type&quot;: &quot;Feature&quot;}, {&quot;bbox&quot;: [8.954886885079002, 44.39610744765416, 8.978009867243307, 44.4103686912777], &quot;geometry&quot;: {&quot;coordinates&quot;: [[[8.978009867243307, 44.4057423543738, 0.0], [8.960610935268381, 44.4103686912777, 0.0], [8.954886885079002, 44.40128213543649, 0.0], [8.976984259284306, 44.39610744765416, 0.0], [8.978009867243307, 44.4057423543738, 0.0]]], &quot;type&quot;: &quot;Polygon&quot;}, &quot;id&quot;: &quot;1&quot;, &quot;properties&quot;: {&quot;Description&quot;: &quot;&quot;, &quot;Name&quot;: &quot;Red area&quot;}, &quot;type&quot;: &quot;Feature&quot;}, {&quot;bbox&quot;: [8.942697603459425, 44.38818359973404, 8.988689651618762, 44.41890119822603], &quot;geometry&quot;: {&quot;coordinates&quot;: [[[8.953065040412415, 44.41890119822603, 0.0], [8.942697603459425, 44.39583632432577, 0.0], [8.98180088842816, 44.38818359973404, 0.0], [8.988689651618762, 44.40872289477481, 0.0], [8.953065040412415, 44.41890119822603, 0.0]]], &quot;type&quot;: &quot;Polygon&quot;}, &quot;id&quot;: &quot;2&quot;, &quot;properties&quot;: {&quot;Description&quot;: &quot;&quot;, &quot;Name&quot;: &quot;Yellow area 2&quot;}, &quot;type&quot;: &quot;Feature&quot;}], &quot;type&quot;: &quot;FeatureCollection&quot;});\n",
       "\n",
       "        \n",
       "    \n",
       "    geo_json_25c917d56d7c1aa021ca36c7de16cc6f.bindTooltip(\n",
       "    function(layer){\n",
       "    let div = L.DomUtil.create(&#x27;div&#x27;);\n",
       "    \n",
       "    let handleObject = feature=&gt;typeof(feature)==&#x27;object&#x27; ? JSON.stringify(feature) : feature;\n",
       "    let fields = [&quot;Name&quot;, &quot;Description&quot;];\n",
       "    let aliases = [&quot;Name&quot;, &quot;Description&quot;];\n",
       "    let table = &#x27;&lt;table&gt;&#x27; +\n",
       "        String(\n",
       "        fields.map(\n",
       "        (v,i)=&gt;\n",
       "        `&lt;tr&gt;\n",
       "            &lt;th&gt;${aliases[i]}&lt;/th&gt;\n",
       "            \n",
       "            &lt;td&gt;${handleObject(layer.feature.properties[v])}&lt;/td&gt;\n",
       "        &lt;/tr&gt;`).join(&#x27;&#x27;))\n",
       "    +&#x27;&lt;/table&gt;&#x27;;\n",
       "    div.innerHTML=table;\n",
       "    \n",
       "    return div\n",
       "    }\n",
       "    ,{&quot;className&quot;: &quot;foliumtooltip&quot;, &quot;sticky&quot;: true});\n",
       "                     \n",
       "    \n",
       "            geo_json_25c917d56d7c1aa021ca36c7de16cc6f.addTo(map_7ce87ee0c6eb621d2c59aa7d963425a2);\n",
       "        \n",
       "    \n",
       "        function geo_json_a403f11d2db06788e3bb7ff1f3b84cef_styler(feature) {\n",
       "            switch(feature.id) {\n",
       "                default:\n",
       "                    return {&quot;color&quot;: &quot;red&quot;, &quot;fillColor&quot;: &quot;red&quot;, &quot;fillOpacity&quot;: 0.5, &quot;weight&quot;: 2};\n",
       "            }\n",
       "        }\n",
       "        function geo_json_a403f11d2db06788e3bb7ff1f3b84cef_highlighter(feature) {\n",
       "            switch(feature.id) {\n",
       "                default:\n",
       "                    return {&quot;fillOpacity&quot;: 0.75};\n",
       "            }\n",
       "        }\n",
       "        function geo_json_a403f11d2db06788e3bb7ff1f3b84cef_pointToLayer(feature, latlng) {\n",
       "            var opts = {&quot;bubblingMouseEvents&quot;: true, &quot;color&quot;: &quot;#3388ff&quot;, &quot;dashArray&quot;: null, &quot;dashOffset&quot;: null, &quot;fill&quot;: true, &quot;fillColor&quot;: &quot;#3388ff&quot;, &quot;fillOpacity&quot;: 0.2, &quot;fillRule&quot;: &quot;evenodd&quot;, &quot;lineCap&quot;: &quot;round&quot;, &quot;lineJoin&quot;: &quot;round&quot;, &quot;opacity&quot;: 1.0, &quot;radius&quot;: 2, &quot;stroke&quot;: true, &quot;weight&quot;: 3};\n",
       "            \n",
       "            let style = geo_json_a403f11d2db06788e3bb7ff1f3b84cef_styler(feature)\n",
       "            Object.assign(opts, style)\n",
       "            \n",
       "            return new L.CircleMarker(latlng, opts)\n",
       "        }\n",
       "\n",
       "        function geo_json_a403f11d2db06788e3bb7ff1f3b84cef_onEachFeature(feature, layer) {\n",
       "            layer.on({\n",
       "                mouseout: function(e) {\n",
       "                    if(typeof e.target.setStyle === &quot;function&quot;){\n",
       "                            geo_json_a403f11d2db06788e3bb7ff1f3b84cef.resetStyle(e.target);\n",
       "                    }\n",
       "                },\n",
       "                mouseover: function(e) {\n",
       "                    if(typeof e.target.setStyle === &quot;function&quot;){\n",
       "                        const highlightStyle = geo_json_a403f11d2db06788e3bb7ff1f3b84cef_highlighter(e.target.feature)\n",
       "                        e.target.setStyle(highlightStyle);\n",
       "                    }\n",
       "                },\n",
       "            });\n",
       "        };\n",
       "        var geo_json_a403f11d2db06788e3bb7ff1f3b84cef = L.geoJson(null, {\n",
       "                onEachFeature: geo_json_a403f11d2db06788e3bb7ff1f3b84cef_onEachFeature,\n",
       "            \n",
       "                style: geo_json_a403f11d2db06788e3bb7ff1f3b84cef_styler,\n",
       "                pointToLayer: geo_json_a403f11d2db06788e3bb7ff1f3b84cef_pointToLayer,\n",
       "        });\n",
       "\n",
       "        function geo_json_a403f11d2db06788e3bb7ff1f3b84cef_add (data) {\n",
       "            geo_json_a403f11d2db06788e3bb7ff1f3b84cef\n",
       "                .addData(data);\n",
       "        }\n",
       "            geo_json_a403f11d2db06788e3bb7ff1f3b84cef_add({&quot;bbox&quot;: [8.928527007144808, 44.388871905011904, 8.982786561093297, 44.413055723320525], &quot;features&quot;: [{&quot;bbox&quot;: [8.928527007144808, 44.40168677468895, 8.942735199306371, 44.413055723320525], &quot;geometry&quot;: {&quot;coordinates&quot;: [[8.928527007144808, 44.40702806217345], [8.929751485972252, 44.40618795666708], [8.93071142665474, 44.40485718859997], [8.93141931113546, 44.40852679459822], [8.931661141117392, 44.412212069424584], [8.934246360059102, 44.410242562026106], [8.935871950486284, 44.4051852008923], [8.936271044878053, 44.413055723320525], [8.9377802064751, 44.40168677468895], [8.942735199306371, 44.407416129388935]], &quot;type&quot;: &quot;MultiPoint&quot;}, &quot;id&quot;: &quot;0&quot;, &quot;properties&quot;: {&quot;__folium_color&quot;: &quot;red&quot;}, &quot;type&quot;: &quot;Feature&quot;}, {&quot;bbox&quot;: [8.956942438581573, 44.40100619126338, 8.97521872139525, 44.40705209348449], &quot;geometry&quot;: {&quot;coordinates&quot;: [[8.956942438581573, 44.40166146780165], [8.958394763992029, 44.40615117536496], [8.961074100364177, 44.40705209348449], [8.962460782055178, 44.40100619126338], [8.96593358658302, 44.40659614363746], [8.968757408320526, 44.40566791177579], [8.9703761776617, 44.40234066525877], [8.971205453859666, 44.403720646980595], [8.971209874020516, 44.40688926823494], [8.97521872139525, 44.405321403632556]], &quot;type&quot;: &quot;MultiPoint&quot;}, &quot;id&quot;: &quot;1&quot;, &quot;properties&quot;: {&quot;__folium_color&quot;: &quot;red&quot;}, &quot;type&quot;: &quot;Feature&quot;}, {&quot;bbox&quot;: [8.945276266992327, 44.388871905011904, 8.982786561093297, 44.409136093037766], &quot;geometry&quot;: {&quot;coordinates&quot;: [[8.945276266992327, 44.40064907279943], [8.957567915418833, 44.39704777699456], [8.962285066311122, 44.39325376526411], [8.971616863702216, 44.3993427680222], [8.97725708593095, 44.39015639743732], [8.979175831187394, 44.388871905011904], [8.980253912515625, 44.3940652715396], [8.98056486032433, 44.40129742822643], [8.981563057910439, 44.409136093037766], [8.982786561093297, 44.39756771666611]], &quot;type&quot;: &quot;MultiPoint&quot;}, &quot;id&quot;: &quot;2&quot;, &quot;properties&quot;: {&quot;__folium_color&quot;: &quot;red&quot;}, &quot;type&quot;: &quot;Feature&quot;}], &quot;type&quot;: &quot;FeatureCollection&quot;});\n",
       "\n",
       "        \n",
       "    \n",
       "    geo_json_a403f11d2db06788e3bb7ff1f3b84cef.bindTooltip(\n",
       "    function(layer){\n",
       "    let div = L.DomUtil.create(&#x27;div&#x27;);\n",
       "    \n",
       "    return div\n",
       "    }\n",
       "    ,{&quot;className&quot;: &quot;foliumtooltip&quot;, &quot;sticky&quot;: true});\n",
       "                     \n",
       "    \n",
       "            geo_json_a403f11d2db06788e3bb7ff1f3b84cef.addTo(map_7ce87ee0c6eb621d2c59aa7d963425a2);\n",
       "        \n",
       "&lt;/script&gt;\n",
       "&lt;/html&gt;\" style=\"position:absolute;width:100%;height:100%;left:0;top:0;border:none !important;\" allowfullscreen webkitallowfullscreen mozallowfullscreen></iframe></div></div>"
      ],
      "text/plain": [
       "<folium.folium.Map at 0x2045ad8ac90>"
      ]
     },
     "execution_count": 81,
     "metadata": {},
     "output_type": "execute_result"
    }
   ],
   "source": [
    "m = my_map.explore()\n",
    "points.explore(m=m, color='red')"
   ]
  },
  {
   "cell_type": "code",
   "execution_count": 94,
   "id": "7d13bc13",
   "metadata": {},
   "outputs": [
    {
     "data": {
      "text/plain": [
       "[(8.958394763992029, 44.40615117536496)]"
      ]
     },
     "execution_count": 94,
     "metadata": {},
     "output_type": "execute_result"
    }
   ],
   "source": [
    "list(list(points[1].geoms)[1].coords)"
   ]
  },
  {
   "cell_type": "code",
   "execution_count": 100,
   "id": "aa0d9a3a",
   "metadata": {},
   "outputs": [
    {
     "name": "stdout",
     "output_type": "stream",
     "text": [
      "{'results': [{'elevation': 9.0, 'longitude': 8.928527, 'latitude': 44.407028}, {'latitude': 44.406151, 'longitude': 8.958395, 'elevation': 14.0}]}\n",
      "Elevations: 9.0\n"
     ]
    }
   ],
   "source": [
    "import requests\n",
    "\n",
    "def get_elevation(coordinates):\n",
    "    api_url = 'https://api.open-elevation.com/api/v1/lookup?locations='\n",
    "    url = api_url + coordinates\n",
    "    response = requests.get(url)\n",
    "    \n",
    "    if response.status_code == 200:\n",
    "        data = response.json()\n",
    "        print(data)\n",
    "        if 'results' in data and len(data['results']) > 0:\n",
    "          # Get all elevations and return  \n",
    "            # elevation = data['results'][0]['elevation']\n",
    "            return data\n",
    "        else:\n",
    "            print(\"No results found for the provided coordinates.\")\n",
    "    else:\n",
    "        print(\"Error occurred while fetching data:\", response.status_code)\n",
    "\n",
    "# Example coordinates string\n",
    "coordinates_string = \"44.40702806217345,8.928527007144808|44.40615117536496,8.958394763992029\"\n",
    "\n",
    "# Call the function with the coordinates string\n",
    "elevations = get_elevation(coordinates_string)\n",
    "print(\"Elevations:\", elevations)\n"
   ]
  },
  {
   "cell_type": "code",
   "execution_count": null,
   "id": "9a10c605",
   "metadata": {},
   "outputs": [],
   "source": []
  }
 ],
 "metadata": {
  "kernelspec": {
   "display_name": "Python 3 (ipykernel)",
   "language": "python",
   "name": "python3"
  },
  "language_info": {
   "codemirror_mode": {
    "name": "ipython",
    "version": 3
   },
   "file_extension": ".py",
   "mimetype": "text/x-python",
   "name": "python",
   "nbconvert_exporter": "python",
   "pygments_lexer": "ipython3",
   "version": "3.11.2"
  }
 },
 "nbformat": 4,
 "nbformat_minor": 5
}
